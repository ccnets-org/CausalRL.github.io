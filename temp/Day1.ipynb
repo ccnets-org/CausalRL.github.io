{
 "cells": [
  {
   "cell_type": "markdown",
   "metadata": {},
   "source": [
    "# Day 1\n",
    "\n",
    "## MLAgent + Non-LM"
   ]
  },
  {
   "cell_type": "markdown",
   "metadata": {},
   "source": [
    "### 튜토리얼 소개"
   ]
  },
  {
   "cell_type": "markdown",
   "metadata": {},
   "source": [
    "### 1. 기본 환경 세팅 - github 참조"
   ]
  },
  {
   "cell_type": "markdown",
   "metadata": {},
   "source": [
    "### 2. 모듈 불러오기\n"
   ]
  },
  {
   "cell_type": "code",
   "execution_count": 1,
   "metadata": {},
   "outputs": [],
   "source": [
    "from utils.setting.env_settings import analyze_env\n",
    "from utils.init import set_seed\n",
    "import torch\n",
    "\n",
    "set_seed()\n",
    "ngpu = 2 # 본인의 gpu 개수에 맞게!\n",
    "device = torch.device(\"cuda:0\" if (torch.cuda.is_available() and ngpu > 0) else \"cpu\")"
   ]
  },
  {
   "cell_type": "code",
   "execution_count": 4,
   "metadata": {},
   "outputs": [
    {
     "name": "stdout",
     "output_type": "stream",
     "text": [
      "Error initializing environment: Couldn't launch the ../unity_environments/PuchBlock/ environment. Provided filename does not match any environments.\n"
     ]
    },
    {
     "ename": "AttributeError",
     "evalue": "'NoneType' object has no attribute 'env_name'",
     "output_type": "error",
     "traceback": [
      "\u001b[1;31m---------------------------------------------------------------------------\u001b[0m",
      "\u001b[1;31mAttributeError\u001b[0m                            Traceback (most recent call last)",
      "Cell \u001b[1;32mIn[4], line 1\u001b[0m\n\u001b[1;32m----> 1\u001b[0m env_config, rl_params \u001b[38;5;241m=\u001b[39m \u001b[43manalyze_env\u001b[49m\u001b[43m(\u001b[49m\u001b[43menv_name\u001b[49m\u001b[43m \u001b[49m\u001b[38;5;241;43m=\u001b[39;49m\u001b[43m \u001b[49m\u001b[38;5;124;43m\"\u001b[39;49m\u001b[38;5;124;43mPuchBlock\u001b[39;49m\u001b[38;5;124;43m\"\u001b[39;49m\u001b[43m)\u001b[49m\n",
      "File \u001b[1;32mc:\\Users\\CCN-team\\Desktop\\ME\\회사 소개\\rl_tune_Docs\\github_files\\api_docs\\rl-tune-main\\rl-tune-main\\utils\\setting\\env_settings.py:38\u001b[0m, in \u001b[0;36manalyze_env\u001b[1;34m(env_name)\u001b[0m\n\u001b[0;32m     36\u001b[0m     use_unity \u001b[38;5;241m=\u001b[39m \u001b[38;5;28;01mFalse\u001b[39;00m\n\u001b[0;32m     37\u001b[0m env_config, rl_params \u001b[38;5;241m=\u001b[39m configure_parameters(env_name, is_unity\u001b[38;5;241m=\u001b[39muse_unity)\n\u001b[1;32m---> 38\u001b[0m \u001b[43mprint_env_specs\u001b[49m\u001b[43m(\u001b[49m\u001b[43menv_config\u001b[49m\u001b[43m)\u001b[49m\n\u001b[0;32m     39\u001b[0m \u001b[38;5;28;01mreturn\u001b[39;00m env_config, rl_params\n",
      "File \u001b[1;32mc:\\Users\\CCN-team\\Desktop\\ME\\회사 소개\\rl_tune_Docs\\github_files\\api_docs\\rl-tune-main\\rl-tune-main\\utils\\printer.py:80\u001b[0m, in \u001b[0;36mprint_env_specs\u001b[1;34m(env_config)\u001b[0m\n\u001b[0;32m     79\u001b[0m \u001b[38;5;28;01mdef\u001b[39;00m \u001b[38;5;21mprint_env_specs\u001b[39m(env_config: EnvConfig):\n\u001b[1;32m---> 80\u001b[0m     \u001b[38;5;28mprint\u001b[39m(\u001b[38;5;124mf\u001b[39m\u001b[38;5;124m\"\u001b[39m\u001b[38;5;124mEnvironment Specifications for \u001b[39m\u001b[38;5;132;01m{\u001b[39;00menv_config\u001b[38;5;241m.\u001b[39menv_name\u001b[38;5;132;01m}\u001b[39;00m\u001b[38;5;130;01m\\n\u001b[39;00m\u001b[38;5;124m\"\u001b[39m)\n\u001b[0;32m     81\u001b[0m     \u001b[38;5;28mprint\u001b[39m(\u001b[38;5;124mf\u001b[39m\u001b[38;5;124m\"\u001b[39m\u001b[38;5;124mnum_environments: \u001b[39m\u001b[38;5;132;01m{\u001b[39;00menv_config\u001b[38;5;241m.\u001b[39mnum_environments\u001b[38;5;132;01m}\u001b[39;00m\u001b[38;5;124m, num_agents: \u001b[39m\u001b[38;5;132;01m{\u001b[39;00menv_config\u001b[38;5;241m.\u001b[39mnum_agents\u001b[38;5;132;01m}\u001b[39;00m\u001b[38;5;124m, samples_per_step: \u001b[39m\u001b[38;5;132;01m{\u001b[39;00menv_config\u001b[38;5;241m.\u001b[39msamples_per_step\u001b[38;5;132;01m}\u001b[39;00m\u001b[38;5;124m\"\u001b[39m)\n\u001b[0;32m     82\u001b[0m     \u001b[38;5;28mprint\u001b[39m(\u001b[38;5;124mf\u001b[39m\u001b[38;5;124m\"\u001b[39m\u001b[38;5;124mstate_size: \u001b[39m\u001b[38;5;132;01m{\u001b[39;00menv_config\u001b[38;5;241m.\u001b[39mstate_size\u001b[38;5;132;01m}\u001b[39;00m\u001b[38;5;124m, action_size: \u001b[39m\u001b[38;5;132;01m{\u001b[39;00menv_config\u001b[38;5;241m.\u001b[39maction_size\u001b[38;5;132;01m}\u001b[39;00m\u001b[38;5;124m\"\u001b[39m)\n",
      "\u001b[1;31mAttributeError\u001b[0m: 'NoneType' object has no attribute 'env_name'"
     ]
    }
   ],
   "source": [
    "env_config, rl_params = analyze_env(env_name = \"PuchBlock\")"
   ]
  },
  {
   "cell_type": "markdown",
   "metadata": {},
   "source": [
    "### 3. "
   ]
  },
  {
   "cell_type": "markdown",
   "metadata": {},
   "source": []
  }
 ],
 "metadata": {
  "kernelspec": {
   "display_name": "testenv",
   "language": "python",
   "name": "python3"
  },
  "language_info": {
   "codemirror_mode": {
    "name": "ipython",
    "version": 3
   },
   "file_extension": ".py",
   "mimetype": "text/x-python",
   "name": "python",
   "nbconvert_exporter": "python",
   "pygments_lexer": "ipython3",
   "version": "3.9.18"
  }
 },
 "nbformat": 4,
 "nbformat_minor": 2
}
