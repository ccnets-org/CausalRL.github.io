{
 "cells": [
  {
   "cell_type": "markdown",
   "metadata": {},
   "source": [
    "# Day 1\n",
    "\n",
    "## MLAgent + Non-LM"
   ]
  },
  {
   "cell_type": "markdown",
   "metadata": {},
   "source": [
    "### 튜토리얼 소개\n",
    "\n",
    "#### 튜토리얼의 목적"
   ]
  },
  {
   "cell_type": "markdown",
   "metadata": {},
   "source": [
    "### 기본 환경 세팅 - github 참조"
   ]
  },
  {
   "cell_type": "markdown",
   "metadata": {},
   "source": [
    "```bash\n",
    "conda create -name rl_tune python=3.9.18\n",
    "conda activate rl_tune\n",
    "conda install pytorch torchvision torchaudio pytorch-cuda=12.1 -c pytorch -c nvidia\n",
    "pip install mlagents==0.30\n",
    "pip install protobuf==3.20\n",
    "pip install gymnasium==0.29.1\n",
    "pip install mujoco==3.1.0\n",
    "pip install jupyter\n",
    "pip install transformers==4.34.1\n",
    "```"
   ]
  },
  {
   "cell_type": "markdown",
   "metadata": {},
   "source": [
    "### 모듈 불러오기\n",
    "- 간단하게 불러온 함수의 기능에 대해 설명\n"
   ]
  },
  {
   "cell_type": "code",
   "execution_count": null,
   "metadata": {},
   "outputs": [],
   "source": [
    "from __future__ import print_function\n",
    "\n",
    "from utils.setting.env_settings import analyze_env\n",
    "from utils.init import set_seed\n",
    "import torch\n",
    "\n",
    "set_seed()\n",
    "ngpu = 2 # 본인의 gpu 개수에 맞게!\n",
    "device = torch.device(\"cuda:0\" if (torch.cuda.is_available() and ngpu > 0) else \"cpu\")"
   ]
  },
  {
   "cell_type": "markdown",
   "metadata": {},
   "source": [
    "### 학습 환경 설정\n",
    "- 예제로 사용할 MLAgent 환경이 뭔지, 특징이 뭔지(state, action size)\n",
    "- mlagent 링크 첨부"
   ]
  },
  {
   "cell_type": "code",
   "execution_count": null,
   "metadata": {},
   "outputs": [],
   "source": [
    "env_config, rl_params = analyze_env(env_name = \"HalfCheetah-v4\")"
   ]
  },
  {
   "cell_type": "markdown",
   "metadata": {},
   "source": [
    "### 네트워크 모델 클래스 선언\n",
    "\n",
    "여기서 각 네트워크의 특성에 대해 언급 \n",
    "- 왜 actor, critic에는 ResMLP를 쓰고\n",
    "- rev_env에는 MLP를 쓰는지."
   ]
  },
  {
   "cell_type": "code",
   "execution_count": null,
   "metadata": {},
   "outputs": [],
   "source": [
    "from torch import nn\n",
    "\n",
    "class ResBlock(nn.Module):\n",
    "    def __init__(self, hidden_dim, dropout):\n",
    "        super(ResBlock, self).__init__()\n",
    "        self.linear1 = nn.Linear(hidden_dim, hidden_dim)\n",
    "        self.linear2 = nn.Linear(hidden_dim, hidden_dim)\n",
    "        self.relu = nn.ReLU()\n",
    "        self.dropout = nn.Dropout(dropout)\n",
    "        \n",
    "    def forward(self, x):\n",
    "        residual = x\n",
    "        out = self.linear1(x)\n",
    "        out = self.relu(out)\n",
    "        out = self.linear2(out)\n",
    "        out += residual\n",
    "        out = self.relu(out)\n",
    "        out = self.dropout(out)  \n",
    "        return out\n",
    "\n",
    "class ResMLP(nn.Module):\n",
    "    def __init__(self, num_layer, d_model, dropout = 0.0):\n",
    "        hidden_dim, num_blocks = d_model, num_layer\n",
    "        super(ResMLP, self).__init__()\n",
    "        self.layers = nn.Sequential(\n",
    "            *(ResBlock(hidden_dim, dropout=dropout) for _ in range(num_blocks))\n",
    "        )\n",
    "    \n",
    "    def forward(self, x, mask = None):\n",
    "        out = self.layers(x)\n",
    "        return out\n",
    "    \n",
    "class MLP(nn.Module):\n",
    "    def create_deep_modules(self, layers_size, dropout = 0.0):\n",
    "        deep_modules = []\n",
    "        for in_size, out_size in zip(layers_size[:-1], layers_size[1:]):\n",
    "            deep_modules.append(nn.Linear(in_size, out_size))\n",
    "            deep_modules.append(nn.ReLU())\n",
    "            deep_modules.append(nn.Dropout(dropout))\n",
    "        return nn.Sequential(*deep_modules)\n",
    "\n",
    "    def __init__(self, num_layer, d_model, dropout = 0.0):\n",
    "        super(MLP, self).__init__()   \n",
    "        self.deep = self.create_deep_modules([d_model] + [int(d_model) for i in range(num_layer)], dropout)\n",
    "                \n",
    "    def forward(self, x, mask = None):\n",
    "        x = self.deep(x)\n",
    "        return x"
   ]
  },
  {
   "cell_type": "markdown",
   "metadata": {},
   "source": [
    "### 훈련 설정"
   ]
  },
  {
   "cell_type": "code",
   "execution_count": null,
   "metadata": {},
   "outputs": [],
   "source": [
    "from rl_tune import RLTune\n",
    "\n",
    "rl_params.network.actor_network = ResMLP\n",
    "rl_params.network.critic_network = ResMLP\n",
    "rl_params.network.rev_env_network = MLP\n",
    "\n",
    "with RLTune(env_config, rl_params, device, use_graphics = False, use_print = True) as rl_tune:\n",
    "    rl_tune.train(resume_training = False)\n"
   ]
  }
 ],
 "metadata": {
  "kernelspec": {
   "display_name": "testenv",
   "language": "python",
   "name": "python3"
  },
  "language_info": {
   "codemirror_mode": {
    "name": "ipython",
    "version": 3
   },
   "file_extension": ".py",
   "mimetype": "text/x-python",
   "name": "python",
   "nbconvert_exporter": "python",
   "pygments_lexer": "ipython3",
   "version": "3.9.18"
  }
 },
 "nbformat": 4,
 "nbformat_minor": 2
}
